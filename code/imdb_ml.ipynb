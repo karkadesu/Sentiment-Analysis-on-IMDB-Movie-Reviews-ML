{
 "cells": [
  {
   "cell_type": "code",
   "execution_count": 1,
   "id": "01a45c26",
   "metadata": {},
   "outputs": [
    {
     "name": "stderr",
     "output_type": "stream",
     "text": [
      "[nltk_data] Downloading package stopwords to\n",
      "[nltk_data]     C:\\Users\\timber\\AppData\\Roaming\\nltk_data...\n",
      "[nltk_data]   Package stopwords is already up-to-date!\n",
      "[nltk_data] Downloading package punkt to\n",
      "[nltk_data]     C:\\Users\\timber\\AppData\\Roaming\\nltk_data...\n",
      "[nltk_data]   Package punkt is already up-to-date!\n"
     ]
    }
   ],
   "source": [
    "#working with dataset\n",
    "import re\n",
    "import string\n",
    "import pandas as pd\n",
    "import numpy as np\n",
    "import re #regular expression\n",
    "import json\n",
    "#preprocessing\n",
    "import nltk\n",
    "from nltk.corpus import stopwords\n",
    "from nltk.tokenize import word_tokenize\n",
    "from nltk.stem import SnowballStemmer\n",
    "from sklearn.preprocessing import LabelEncoder\n",
    "from sklearn.preprocessing import LabelBinarizer\n",
    "nltk.download('stopwords')\n",
    "nltk.download('punkt')\n",
    "#training the model\n",
    "from sklearn.model_selection import train_test_split\n",
    "from sklearn.pipeline import Pipeline\n",
    "from sklearn.linear_model import LogisticRegression\n",
    "from sklearn.feature_extraction.text import CountVectorizer\n",
    "from sklearn.feature_extraction.text import TfidfVectorizer\n",
    "from sklearn.model_selection import GridSearchCV"
   ]
  },
  {
   "cell_type": "code",
   "execution_count": 2,
   "id": "0f680432",
   "metadata": {},
   "outputs": [],
   "source": [
    "#load dataset\n",
    "df = pd.read_csv('iMDB Dataset.csv')"
   ]
  },
  {
   "cell_type": "code",
   "execution_count": 4,
   "id": "5d2aff32",
   "metadata": {},
   "outputs": [],
   "source": [
    "train_df, test_df = train_test_split(df, test_size=3500) # data split train / test"
   ]
  },
  {
   "cell_type": "code",
   "execution_count": 20,
   "id": "4ccfdeed",
   "metadata": {},
   "outputs": [],
   "source": [
    "#data preprocessing\n",
    "russian_stop_words = stopwords.words(\"english\")\n",
    "snowball = SnowballStemmer(language=\"english\")\n",
    "def tokenize_sentence(text):\n",
    "    text = text.replace(r'\\n', ' ')\n",
    "    pattern =  \"[^a-zA-Z0-9]\"\n",
    "    text = re.sub(pattern,\" \",text) \n",
    "    text = text.lower()\n",
    "    tokens = word_tokenize(text, language=\"english\")\n",
    "    tokens = [i for i in tokens if i not in string.punctuation]\n",
    "    tokens = [i for i in tokens if i not in russian_stop_words]\n",
    "    tokens = [snowball.stem(i) for i in tokens]\n",
    "    df.sentiment.replace(\"positive\", 1, inplace=True)  \n",
    "    df.sentiment.replace(\"negative\", 2, inplace=True) \n",
    "    return tokens"
   ]
  },
  {
   "cell_type": "code",
   "execution_count": 19,
   "id": "9f98b125",
   "metadata": {},
   "outputs": [],
   "source": [
    "#train the logistic regression algorithm    \n",
    "model_pipeline = Pipeline([\n",
    "    (\"vectorizer\", TfidfVectorizer(tokenizer = tokenize_sentence, lowercase=False)),\n",
    "    (\"model\", LogisticRegression(random_state=0))])"
   ]
  },
  {
   "cell_type": "code",
   "execution_count": 21,
   "id": "df192c25",
   "metadata": {},
   "outputs": [
    {
     "name": "stderr",
     "output_type": "stream",
     "text": [
      "C:\\anaconda3\\lib\\site-packages\\sklearn\\linear_model\\_logistic.py:814: ConvergenceWarning: lbfgs failed to converge (status=1):\n",
      "STOP: TOTAL NO. of ITERATIONS REACHED LIMIT.\n",
      "\n",
      "Increase the number of iterations (max_iter) or scale the data as shown in:\n",
      "    https://scikit-learn.org/stable/modules/preprocessing.html\n",
      "Please also refer to the documentation for alternative solver options:\n",
      "    https://scikit-learn.org/stable/modules/linear_model.html#logistic-regression\n",
      "  n_iter_i = _check_optimize_result(\n"
     ]
    }
   ],
   "source": [
    "mp = model_pipeline.fit(train_df[\"review\"], train_df[\"sentiment\"])"
   ]
  },
  {
   "cell_type": "code",
   "execution_count": 22,
   "id": "cf5a33da",
   "metadata": {},
   "outputs": [],
   "source": [
    "def predictor(comment):\n",
    "    return int(model_pipeline.predict([comment])) #returns 1 or 2"
   ]
  },
  {
   "cell_type": "code",
   "execution_count": 23,
   "id": "8313b16e",
   "metadata": {},
   "outputs": [],
   "source": [
    "# for saving algorithm and preprocessing objects\n",
    "import dill\n",
    "filename1 = \"mlmodel.pkl\"\n",
    "# save model\n",
    "dill.dump(mp, open(filename1, \"wb\"))"
   ]
  },
  {
   "cell_type": "code",
   "execution_count": 24,
   "id": "7c604a8a",
   "metadata": {},
   "outputs": [
    {
     "data": {
      "text/plain": [
       "1"
      ]
     },
     "execution_count": 24,
     "metadata": {},
     "output_type": "execute_result"
    }
   ],
   "source": [
    "predictor('the film is fine')"
   ]
  },
  {
   "cell_type": "code",
   "execution_count": 25,
   "id": "3b70e472",
   "metadata": {},
   "outputs": [
    {
     "data": {
      "text/plain": [
       "2"
      ]
     },
     "execution_count": 25,
     "metadata": {},
     "output_type": "execute_result"
    }
   ],
   "source": [
    "predictor('it was really bad')"
   ]
  },
  {
   "cell_type": "code",
   "execution_count": null,
   "id": "c99d5e9b",
   "metadata": {},
   "outputs": [],
   "source": []
  }
 ],
 "metadata": {
  "kernelspec": {
   "display_name": "Python 3 (ipykernel)",
   "language": "python",
   "name": "python3"
  },
  "language_info": {
   "codemirror_mode": {
    "name": "ipython",
    "version": 3
   },
   "file_extension": ".py",
   "mimetype": "text/x-python",
   "name": "python",
   "nbconvert_exporter": "python",
   "pygments_lexer": "ipython3",
   "version": "3.9.12"
  }
 },
 "nbformat": 4,
 "nbformat_minor": 5
}
